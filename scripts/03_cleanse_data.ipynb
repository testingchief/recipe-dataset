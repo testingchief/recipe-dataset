{
 "cells": [
  {
   "cell_type": "code",
   "execution_count": null,
   "metadata": {},
   "outputs": [],
   "source": [
    "import pandas as pd\n",
    "import numpy as np\n",
    "import os\n",
    "import sys\n",
    "\n",
    "ROOT_DIR = os.path.dirname(os.path.abspath(''))\n",
    "DATA_DIR = os.path.join(ROOT_DIR, 'data\\\\')\n",
    "print('Data Directory: ', DATA_DIR)"
   ]
  },
  {
   "cell_type": "code",
   "execution_count": null,
   "metadata": {},
   "outputs": [],
   "source": [
    "# read csv\n",
    "df_ihr = pd.read_csv(DATA_DIR + 'ihr-recipe-data.csv')\n",
    "print(len(df_ihr))\n",
    "df_vroi = pd.read_csv(DATA_DIR + 'vroi-recipe-data.csv')\n",
    "print(len(df_vroi))\n",
    "\n",
    "# concat data\n",
    "df = pd.concat([df_ihr, df_vroi])\n",
    "print(len(df))\n",
    "\n",
    "# remove duplicates\n",
    "df = df.drop_duplicates(subset=['recipe'], keep=\"first\")\n",
    "print(len(df))\n",
    "\n",
    "# remove rows with null values\n",
    "df = df.dropna(subset=['ingredients'])\n",
    "print(len(df))"
   ]
  },
  {
   "cell_type": "code",
   "execution_count": null,
   "metadata": {},
   "outputs": [],
   "source": [
    "# update recipe names\n",
    "df['recipe'] = df['recipe'].str.replace('-with-step-by-step-pictures','') \\\n",
    "    .str.replace('-step-by-step-pics','') \\\n",
    "    .str.replace('-step-by-step','') \\\n",
    "    .str.replace('?utm_source=Menu&utm_medium=Mobile&utm_campaign=Popular','')\n",
    "\n",
    "# update ingredients\n",
    "df['ingredients'] = df['ingredients'].str.replace(' ,',',') \n",
    "\n",
    "# standardize prep time and cook time\n",
    "\n",
    "\n"
   ]
  },
  {
   "cell_type": "code",
   "execution_count": null,
   "metadata": {},
   "outputs": [],
   "source": [
    "df.to_csv(DATA_DIR + 'concatenated_data.csv')"
   ]
  }
 ],
 "metadata": {
  "kernelspec": {
   "display_name": "Python 3",
   "language": "python",
   "name": "python3"
  },
  "language_info": {
   "codemirror_mode": {
    "name": "ipython",
    "version": 3
   },
   "file_extension": ".py",
   "mimetype": "text/x-python",
   "name": "python",
   "nbconvert_exporter": "python",
   "pygments_lexer": "ipython3",
   "version": "3.11.5"
  },
  "orig_nbformat": 4
 },
 "nbformat": 4,
 "nbformat_minor": 2
}
